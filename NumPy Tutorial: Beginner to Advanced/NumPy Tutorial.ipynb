{
 "cells": [
  {
   "cell_type": "markdown",
   "id": "8dadeabd",
   "metadata": {},
   "source": [
    "## NumPy Tutorial\n",
    "1. Introduction\n",
    "2. Creating NumPy Array\n",
    "3. NumPy Array Manipulation\n",
    "4. Matrix in NumPy\n",
    "5. Operations on NumPy Array\n",
    "6. Reshaping NumPy Array\n",
    "7. Indexing NumPy Array\n",
    "8. Arithmetic operations on NumPyArray\n",
    "9. Linear Algebra in NumPy Array\n",
    "10. NumPy and Random Data\n",
    "11. Sorting and Searching in NumPy Array\n",
    "12. Universal Functions\n",
    "13. Working With Images"
   ]
  },
  {
   "cell_type": "markdown",
   "id": "51d215a3",
   "metadata": {},
   "source": [
    "## 1. Introduction"
   ]
  },
  {
   "cell_type": "markdown",
   "id": "c2b9239d",
   "metadata": {},
   "source": [
    "NumPy revolutionized the way we handle numerical data in Python. It is created to address the limitations of traditional Python lists when it comes to numerical computing. It is developed by Travis Olliphant in 2005.\n",
    "\n",
    "NumPy provides a powerful array object that is both efficient and flexible. Its primary goal is to facilitate complex mathematical and scientific operations by introducing array-oriented computing capabilities. NumPy’s design allows for seamless integration with other scientific libraries, enabling faster execution of numerical tasks.\n",
    "\n",
    "As a result, NumPy has become a cornerstone in the Python ecosystem, essential for data manipulation, machine learning, and scientific research."
   ]
  },
  {
   "cell_type": "markdown",
   "id": "ada8d327",
   "metadata": {},
   "source": [
    "## 2. Creating NumPy Array"
   ]
  },
  {
   "cell_type": "markdown",
   "id": "612b7cf7",
   "metadata": {},
   "source": [
    "### 1. Numpy – Array Creation\n",
    "### 2. The Arange Method\n",
    "### 3. The Zero Method\n",
    "### 4. Create a Numpy array filled with all ones\n",
    "### 5. The linspace Method\n",
    "### 6. The eye Method\n",
    "### 7. Numpy Meshgrid function\n",
    "### 8. Creating a one-dimensional NumPy array\n",
    "### 9. How to create an empty and a full NumPy array?\n",
    "### 10. How to create a vector in Python using NumPy"
   ]
  },
  {
   "cell_type": "markdown",
   "id": "2c15bc2f",
   "metadata": {},
   "source": [
    "### 1. Numpy – Array Creation\n",
    "Array creation using array functions :\n",
    "array(data type, value list) function is used to create an array with data type and value list specified in its arguments."
   ]
  },
  {
   "cell_type": "code",
   "execution_count": 1,
   "id": "8b5b91e8",
   "metadata": {},
   "outputs": [
    {
     "name": "stdout",
     "output_type": "stream",
     "text": [
      "The new created array is : 1 2 3 \n"
     ]
    }
   ],
   "source": [
    "# Python code to demonstrate the working of \n",
    "# array()\n",
    "  \n",
    "# importing \"array\" for array operations\n",
    "import array\n",
    "  \n",
    "# initializing array with array values\n",
    "# initializes array with signed integers\n",
    "arr = array.array('i', [1, 2, 3]) \n",
    " \n",
    "# printing original array\n",
    "print (\"The new created array is : \",end=\"\")\n",
    "for i in range (0,3):\n",
    "    print (arr[i], end=\" \")\n",
    " \n",
    "print (\"\\r\")"
   ]
  },
  {
   "cell_type": "markdown",
   "id": "4e624d06",
   "metadata": {},
   "source": [
    "### 2. The Arange Method\n",
    "The arange([start,] stop[, step,][, dtype]) : Returns an array with evenly spaced elements as per the interval. The interval mentioned is half-opened i.e. [Start, Stop) "
   ]
  },
  {
   "cell_type": "code",
   "execution_count": 2,
   "id": "df93c9d7",
   "metadata": {},
   "outputs": [
    {
     "name": "stdout",
     "output_type": "stream",
     "text": [
      "A\n",
      " [[0 1]\n",
      " [2 3]] \n",
      "\n",
      "A\n",
      " [4 5 6 7 8 9] \n",
      "\n",
      "A\n",
      " [ 4  7 10 13 16 19] \n",
      "\n"
     ]
    }
   ],
   "source": [
    "# Python Programming illustrating\n",
    "# numpy.arange method\n",
    "\n",
    "import numpy as geek\n",
    "\n",
    "print(\"A\\n\", geek.arange(4).reshape(2, 2), \"\\n\")\n",
    "print(\"A\\n\", geek.arange(4, 10), \"\\n\")\n",
    "print(\"A\\n\", geek.arange(4, 20, 3), \"\\n\")\n"
   ]
  },
  {
   "cell_type": "markdown",
   "id": "d57c6a03",
   "metadata": {},
   "source": [
    "### 3. The Zero Method\n",
    "The numpy.zeros() function returns a new array of given shape and type, with zeros."
   ]
  },
  {
   "cell_type": "code",
   "execution_count": 3,
   "id": "5ab80828",
   "metadata": {},
   "outputs": [
    {
     "name": "stdout",
     "output_type": "stream",
     "text": [
      "Matrix b : \n",
      " [0 0]\n",
      "\n",
      "Matrix a : \n",
      " [[0 0]\n",
      " [0 0]]\n",
      "\n",
      "Matrix c : \n",
      " [[0. 0. 0.]\n",
      " [0. 0. 0.]\n",
      " [0. 0. 0.]]\n"
     ]
    }
   ],
   "source": [
    "# Python Program illustrating \n",
    "# numpy.zeros method \n",
    "\n",
    "import numpy as geek \n",
    "\n",
    "b = geek.zeros(2, dtype = int) \n",
    "print(\"Matrix b : \\n\", b) \n",
    "\n",
    "a = geek.zeros([2, 2], dtype = int) \n",
    "print(\"\\nMatrix a : \\n\", a) \n",
    "\n",
    "c = geek.zeros([3, 3]) \n",
    "print(\"\\nMatrix c : \\n\", c) \n"
   ]
  },
  {
   "cell_type": "markdown",
   "id": "cce47fca",
   "metadata": {},
   "source": [
    "### 4. Create a Numpy array filled with all ones\n",
    "To create an array filled with all ones, given the shape and type of array we can use numpy.ones() method of NumPy library in Python."
   ]
  },
  {
   "cell_type": "code",
   "execution_count": 4,
   "id": "3fe1c1c0",
   "metadata": {},
   "outputs": [
    {
     "name": "stdout",
     "output_type": "stream",
     "text": [
      "Matrix a : \n",
      " [1 1 1]\n",
      "\n",
      "Matrix b : \n",
      " [[1 1 1]\n",
      " [1 1 1]\n",
      " [1 1 1]]\n"
     ]
    }
   ],
   "source": [
    "# Python Program to create array with all ones \n",
    "import numpy as geek \n",
    "\n",
    "a = geek.ones(3, dtype = int) \n",
    "print(\"Matrix a : \\n\", a) \n",
    "\n",
    "b = geek.ones([3, 3], dtype = int) \n",
    "print(\"\\nMatrix b : \\n\", b) \n"
   ]
  },
  {
   "cell_type": "markdown",
   "id": "d693734a",
   "metadata": {},
   "source": [
    "### 5. The linspace Method\n",
    "The NumPy.linspace() function returns an array of evenly spaced values within the specified interval [start, stop].\n",
    "\n",
    "It is similar to NumPy.arange() function but instead of a step, it uses a sample number. "
   ]
  },
  {
   "cell_type": "code",
   "execution_count": 5,
   "id": "d556709c",
   "metadata": {},
   "outputs": [
    {
     "name": "stdout",
     "output_type": "stream",
     "text": [
      "B\n",
      " (array([2.  , 2.25, 2.5 , 2.75, 3.  ]), 0.25) \n",
      "\n",
      "A\n",
      " [0.         0.22039774 0.42995636 0.6183698  0.77637192 0.8961922\n",
      " 0.9719379  0.99988386 0.9786557  0.90929743]\n"
     ]
    }
   ],
   "source": [
    "# Python Programming illustrating \n",
    "# numpy.linspace method \n",
    "\n",
    "import numpy as geek \n",
    "\n",
    "# restep set to True \n",
    "print(\"B\\n\", geek.linspace(2.0, 3.0, num=5, retstep=True), \"\\n\") \n",
    "\n",
    "# To evaluate sin() in long range \n",
    "x = geek.linspace(0, 2, 10) \n",
    "print(\"A\\n\", geek.sin(x)) \n"
   ]
  },
  {
   "cell_type": "markdown",
   "id": "3991e278",
   "metadata": {},
   "source": [
    "### 6. The eye Method\n",
    "numpy.eye(R, C = None, k = 0, dtype = type <‘float’>) : –The eye tool returns a 2-D array with  1’s as the diagonal and  0’s elsewhere. The diagonal can be main, upper, or lower depending on the optional parameter k. A positive k is for the upper diagonal, a negative k is for the lower, and a  0 k (default) is for the main diagonal."
   ]
  },
  {
   "cell_type": "code",
   "execution_count": 6,
   "id": "60a6a603",
   "metadata": {},
   "outputs": [
    {
     "name": "stdout",
     "output_type": "stream",
     "text": [
      "Matrix b : \n",
      " [[1. 0.]\n",
      " [0. 1.]]\n",
      "\n",
      "Matrix a : \n",
      " [[0. 0. 0. 0. 0.]\n",
      " [1. 0. 0. 0. 0.]\n",
      " [0. 1. 0. 0. 0.]\n",
      " [0. 0. 1. 0. 0.]]\n"
     ]
    }
   ],
   "source": [
    "# Python Programming illustrating\n",
    "# numpy.eye method\n",
    "\n",
    "import numpy as geek\n",
    "\n",
    "# 2x2 matrix with 1's on main diagonal\n",
    "b = geek.eye(2, dtype = float)\n",
    "print(\"Matrix b : \\n\", b)\n",
    "\n",
    "# matrix with R=4 C=5 and 1 on diagonal\n",
    "# below main diagonal\n",
    "a = geek.eye(4, 5, k = -1)\n",
    "print(\"\\nMatrix a : \\n\", a)\n"
   ]
  },
  {
   "cell_type": "markdown",
   "id": "8d3b5b08",
   "metadata": {},
   "source": [
    "### 7. Numpy Meshgrid function\n",
    "The numpy.meshgrid function is used to create a rectangular grid out of two given one-dimensional arrays representing the Cartesian indexing or Matrix indexing. Meshgrid function is somewhat inspired from MATLAB."
   ]
  },
  {
   "cell_type": "code",
   "execution_count": 7,
   "id": "ac228246",
   "metadata": {},
   "outputs": [
    {
     "name": "stdout",
     "output_type": "stream",
     "text": [
      "x_1 = \n",
      "[[-4. -3. -2. -1.  0.  1.  2.  3.  4.]\n",
      " [-4. -3. -2. -1.  0.  1.  2.  3.  4.]\n",
      " [-4. -3. -2. -1.  0.  1.  2.  3.  4.]\n",
      " [-4. -3. -2. -1.  0.  1.  2.  3.  4.]\n",
      " [-4. -3. -2. -1.  0.  1.  2.  3.  4.]\n",
      " [-4. -3. -2. -1.  0.  1.  2.  3.  4.]\n",
      " [-4. -3. -2. -1.  0.  1.  2.  3.  4.]\n",
      " [-4. -3. -2. -1.  0.  1.  2.  3.  4.]\n",
      " [-4. -3. -2. -1.  0.  1.  2.  3.  4.]\n",
      " [-4. -3. -2. -1.  0.  1.  2.  3.  4.]\n",
      " [-4. -3. -2. -1.  0.  1.  2.  3.  4.]]\n",
      "y_1 = \n",
      "[[-5. -5. -5. -5. -5. -5. -5. -5. -5.]\n",
      " [-4. -4. -4. -4. -4. -4. -4. -4. -4.]\n",
      " [-3. -3. -3. -3. -3. -3. -3. -3. -3.]\n",
      " [-2. -2. -2. -2. -2. -2. -2. -2. -2.]\n",
      " [-1. -1. -1. -1. -1. -1. -1. -1. -1.]\n",
      " [ 0.  0.  0.  0.  0.  0.  0.  0.  0.]\n",
      " [ 1.  1.  1.  1.  1.  1.  1.  1.  1.]\n",
      " [ 2.  2.  2.  2.  2.  2.  2.  2.  2.]\n",
      " [ 3.  3.  3.  3.  3.  3.  3.  3.  3.]\n",
      " [ 4.  4.  4.  4.  4.  4.  4.  4.  4.]\n",
      " [ 5.  5.  5.  5.  5.  5.  5.  5.  5.]]\n"
     ]
    }
   ],
   "source": [
    "# Sample code for generation of first example\n",
    "import numpy as np\n",
    "# from matplotlib import pyplot as plt\n",
    "# pyplot imported for plotting graphs\n",
    "\n",
    "x = np.linspace(-4, 4, 9)\n",
    "\n",
    "# numpy.linspace creates an array of\n",
    "# 9 linearly placed elements between\n",
    "# -4 and 4, both inclusive \n",
    "y = np.linspace(-5, 5, 11)\n",
    "\n",
    "# The meshgrid function returns\n",
    "# two 2-dimensional arrays \n",
    "x_1, y_1 = np.meshgrid(x, y)\n",
    "\n",
    "print(\"x_1 = \")\n",
    "print(x_1)\n",
    "print(\"y_1 = \")\n",
    "print(y_1)\n"
   ]
  },
  {
   "cell_type": "markdown",
   "id": "94add6b7",
   "metadata": {},
   "source": [
    "### 8. Creating a one-dimensional NumPy array\n",
    "The One-dimensional array contains elements only in one dimension. In other words, the shape of the NumPy array should contain only one value in the tuple. Let us see how to create 1-dimensional NumPy arrays."
   ]
  },
  {
   "cell_type": "code",
   "execution_count": 8,
   "id": "cc83d9e9",
   "metadata": {},
   "outputs": [
    {
     "name": "stdout",
     "output_type": "stream",
     "text": [
      "[100 200 300 400]\n"
     ]
    }
   ],
   "source": [
    "import numpy as np\n",
    "\n",
    "# creating the list\n",
    "list = [100, 200, 300, 400]\n",
    "\n",
    "# creating 1-d array\n",
    "n = np.array(list)\n",
    "print(n)\n"
   ]
  },
  {
   "cell_type": "markdown",
   "id": "327308ec",
   "metadata": {},
   "source": [
    "### 9. How to create an empty and a full NumPy array?\n",
    "Sometimes there is a need to create an empty and full array simultaneously for a particular question. In this situation, we have two functions named numpy.empty() and numpy. full() to create an empty and full array. Here we will see different examples:"
   ]
  },
  {
   "cell_type": "code",
   "execution_count": 9,
   "id": "a7875b21",
   "metadata": {},
   "outputs": [
    {
     "name": "stdout",
     "output_type": "stream",
     "text": [
      "Empty Array\n",
      "[[4128860 6029375 3801155 5570652]\n",
      " [6619251 7536754 4259932 7143524]\n",
      " [7209065 4259932 7340144 6357060]]\n",
      "\n",
      " Full Array\n",
      "[[55 55 55]\n",
      " [55 55 55]\n",
      " [55 55 55]]\n"
     ]
    }
   ],
   "source": [
    "import numpy as np\n",
    "\n",
    "\n",
    "# Create an empty array\n",
    "empa = np.empty((3, 4), dtype=int)\n",
    "print(\"Empty Array\")\n",
    "print(empa)\n",
    "\n",
    "# Create a full array\n",
    "flla = np.full([3, 3], 55, dtype=int)\n",
    "print(\"\\n Full Array\")\n",
    "print(flla)\n"
   ]
  },
  {
   "cell_type": "markdown",
   "id": "cb2508b8",
   "metadata": {},
   "source": [
    "### 10. How to create a vector in Python using NumPy\n",
    "Vector are built from components, which are ordinary numbers. We can think of a vector as a list of numbers, and vector algebra as operations performed on the numbers in the list. In other words vector is the numpy 1-D array."
   ]
  },
  {
   "cell_type": "code",
   "execution_count": 10,
   "id": "20c91446",
   "metadata": {},
   "outputs": [
    {
     "name": "stdout",
     "output_type": "stream",
     "text": [
      "Horizontal Vector\n",
      "[1 2 3]\n",
      "----------------\n",
      "Vertical Vector\n",
      "[[10]\n",
      " [20]\n",
      " [30]]\n"
     ]
    }
   ],
   "source": [
    "# importing numpy \n",
    "import numpy as np \n",
    "\n",
    "# creating a 1-D list (Horizontal) \n",
    "list1 = [1, 2, 3] \n",
    "\n",
    "# creating a 1-D list (Vertical) \n",
    "list2 = [[10], \n",
    "\t\t[20], \n",
    "\t\t[30]] \n",
    "\n",
    "# creating a vector1 \n",
    "# vector as row \n",
    "vector1 = np.array(list1) \n",
    "\n",
    "# creating a vector 2 \n",
    "# vector as column \n",
    "vector2 = np.array(list2) \n",
    "\n",
    "\n",
    "# showing horizontal vector \n",
    "print(\"Horizontal Vector\") \n",
    "print(vector1) \n",
    "\n",
    "print(\"----------------\") \n",
    "\n",
    "# showing vertical vector \n",
    "print(\"Vertical Vector\") \n",
    "print(vector2) \n"
   ]
  },
  {
   "cell_type": "markdown",
   "id": "c2a8841b",
   "metadata": {},
   "source": [
    "## 3. NumPy Array Manipulation"
   ]
  },
  {
   "cell_type": "markdown",
   "id": "3d3dfa60",
   "metadata": {},
   "source": [
    "### 1. Copy and View in NumPy Array\n",
    "### 2. Appending values at the end of an NumPy array\n",
    "### 3. How to swap columns of a given NumPy array?\n",
    "### 4. Stack the sequence of NumPy array horizontally\n",
    "### 5. Stack the sequence of NumPy array vertically\n",
    "### 6. Joining NumPy Array\n",
    "### 7. Combining a one and a two-dimensional NumPy Array\n",
    "### 8. Combined array index by index\n",
    "### 9. Splitting Arrays in NumPy\n",
    "### 10. Compare two NumPy arrays\n",
    "### 11. Find the union of two NumPy arrays\n",
    "### 12. Find unique rows in a NumPy array\n",
    "### 13. Get the unique values from an array\n",
    "### 14. Trim the leading and/or trailing zeros from a 1-D array\n",
    "### 15. Insert a new axis within a NumPy array"
   ]
  },
  {
   "cell_type": "markdown",
   "id": "8538c04a",
   "metadata": {},
   "source": [
    "### 1. Copy and View in NumPy Array"
   ]
  },
  {
   "cell_type": "code",
   "execution_count": 32,
   "id": "16fdfcda",
   "metadata": {},
   "outputs": [
    {
     "name": "stdout",
     "output_type": "stream",
     "text": [
      "id of arr 2091345869008\n",
      "id of v 2091345868336\n",
      "original array-  [12  4  6  8 10]\n",
      "view-  [12  4  6  8 10]\n"
     ]
    }
   ],
   "source": [
    "# Example: Making a view and changing the original array\n",
    "import numpy as np \n",
    "# creating array \n",
    "arr = np.array([2, 4, 6, 8, 10]) \n",
    "# creating view \n",
    "v = arr.view() \n",
    "# both arr and v have different id \n",
    "print(\"id of arr\", id(arr)) \n",
    "print(\"id of v\", id(v)) \n",
    "# changing original array \n",
    "# will effect view \n",
    "arr[0] = 12\n",
    "# printing array and view \n",
    "print(\"original array- \", arr) \n",
    "print(\"view- \", v)\n"
   ]
  },
  {
   "cell_type": "code",
   "execution_count": 33,
   "id": "acc52448",
   "metadata": {},
   "outputs": [
    {
     "name": "stdout",
     "output_type": "stream",
     "text": [
      "id of arr 2091351523216\n",
      "id of c 2091351818576\n",
      "original array-  [12  4  6  8 10]\n",
      "copy-  [ 2  4  6  8 10]\n"
     ]
    }
   ],
   "source": [
    "# Example: Making a copy and changing the original array\n",
    "import numpy as np \n",
    "\n",
    "# creating array \n",
    "arr = np.array([2, 4, 6, 8, 10]) \n",
    "\n",
    "# creating copy of array \n",
    "c = arr.copy() \n",
    "\n",
    "# both arr and c have different id \n",
    "print(\"id of arr\", id(arr)) \n",
    "print(\"id of c\", id(c)) \n",
    "\n",
    "# changing original array \n",
    "# this will not effect copy \n",
    "arr[0] = 12\n",
    "\n",
    "# printing array and copy \n",
    "print(\"original array- \", arr) \n",
    "print(\"copy- \", c) \n"
   ]
  },
  {
   "cell_type": "markdown",
   "id": "6cb1767b",
   "metadata": {},
   "source": [
    "### 2. Appending values at the end of an NumPy array"
   ]
  },
  {
   "cell_type": "code",
   "execution_count": 34,
   "id": "78be4d19",
   "metadata": {},
   "outputs": [
    {
     "name": "stdout",
     "output_type": "stream",
     "text": [
      "Original Array\n",
      "[[ 1  2  3  4  5  6]\n",
      " [ 7  8  9 10 11 12]] \n",
      "\n",
      "Array to be appended column wise\n",
      "[[ 5  6  7  8  9 10]]\n",
      "Array after appending the values column wise\n",
      "[[ 1  2  3  4  5  6]\n",
      " [ 7  8  9 10 11 12]\n",
      " [ 5  6  7  8  9 10]] \n",
      "\n",
      "Array to be appended row wise\n",
      "[[1]\n",
      " [2]]\n",
      "Array after appending the values row wise\n",
      "[[ 1  2  3  4  5  6  1]\n",
      " [ 7  8  9 10 11 12  2]]\n"
     ]
    }
   ],
   "source": [
    "# importing the module\n",
    "import numpy as np\n",
    "\n",
    "# create an array\n",
    "arr = np.arange(1, 13).reshape(2, 6)\n",
    "print('Original Array')\n",
    "print(arr, '\\n')\n",
    "\n",
    "# create another array which is\n",
    "# to be appended column-wise\n",
    "col = np.arange(5, 11).reshape(1, 6)\n",
    "print('Array to be appended column wise')\n",
    "print(col)\n",
    "arr_col = np.append(arr, col, axis=0)\n",
    "print('Array after appending the values column wise')\n",
    "print(arr_col, '\\n')\n",
    "\n",
    "# create an array which is\n",
    "# to be appended row wise\n",
    "row = np.array([1, 2]).reshape(2, 1)\n",
    "print('Array to be appended row wise')\n",
    "print(row)\n",
    "arr_row = np.append(arr, row, axis=1)\n",
    "print('Array after appending the values row wise')\n",
    "print(arr_row)\n"
   ]
  },
  {
   "cell_type": "markdown",
   "id": "00506120",
   "metadata": {},
   "source": [
    "### 3. How to swap columns of a given NumPy array?"
   ]
  },
  {
   "cell_type": "code",
   "execution_count": 35,
   "id": "a3b13128",
   "metadata": {},
   "outputs": [
    {
     "name": "stdout",
     "output_type": "stream",
     "text": [
      "Original array:\n",
      "[[ 0  1  2]\n",
      " [ 3  4  5]\n",
      " [ 6  7  8]\n",
      " [ 9 10 11]]\n",
      "After swapping arrays the last column and first column:\n",
      "[[ 2  1  0]\n",
      " [ 5  4  3]\n",
      " [ 8  7  6]\n",
      " [11 10  9]]\n"
     ]
    }
   ],
   "source": [
    "# importing Module\n",
    "import numpy as np\n",
    "\n",
    "\n",
    "# creating array with shape(4,3)\n",
    "my_array = np.arange(12).reshape(4, 3)\n",
    "print(\"Original array:\")\n",
    "print(my_array)\n",
    "\n",
    "# swapping the column with index of \n",
    "# original array\n",
    "my_array[:, [2, 0]] = my_array[:, [0, 2]]\n",
    "print(\"After swapping arrays the last column and first column:\")\n",
    "print(my_array)\n"
   ]
  },
  {
   "cell_type": "markdown",
   "id": "89c22189",
   "metadata": {},
   "source": [
    "### 4. Stack the sequence of NumPy array horizontally"
   ]
  },
  {
   "cell_type": "code",
   "execution_count": 36,
   "id": "cd37199b",
   "metadata": {},
   "outputs": [
    {
     "name": "stdout",
     "output_type": "stream",
     "text": [
      "1st Input array : \n",
      " [1 2 3]\n",
      "2nd Input array : \n",
      " [4 5 6]\n",
      "Output horizontally stacked array:\n",
      "  [1 2 3 4 5 6]\n"
     ]
    }
   ],
   "source": [
    "# Python program explaining \n",
    "# hstack() function \n",
    "\n",
    "import numpy as geek \n",
    "\n",
    "# input array \n",
    "in_arr1 = geek.array([ 1, 2, 3] ) \n",
    "print (\"1st Input array : \\n\", in_arr1) \n",
    "\n",
    "in_arr2 = geek.array([ 4, 5, 6] ) \n",
    "print (\"2nd Input array : \\n\", in_arr2) \n",
    "\n",
    "# Stacking the two arrays horizontally \n",
    "out_arr = geek.hstack((in_arr1, in_arr2)) \n",
    "print (\"Output horizontally stacked array:\\n \", out_arr) \n"
   ]
  },
  {
   "cell_type": "markdown",
   "id": "3677a9f2",
   "metadata": {},
   "source": [
    "### 5. Stack the sequence of NumPy array vertically"
   ]
  },
  {
   "cell_type": "code",
   "execution_count": 37,
   "id": "280d9561",
   "metadata": {},
   "outputs": [
    {
     "name": "stdout",
     "output_type": "stream",
     "text": [
      "1st Input array : \n",
      " [1 2 3]\n",
      "2nd Input array : \n",
      " [4 5 6]\n",
      "Output vertically stacked array:\n",
      "  [[1 2 3]\n",
      " [4 5 6]]\n"
     ]
    }
   ],
   "source": [
    "# Python program explaining \n",
    "# vstack() function \n",
    "\n",
    "import numpy as geek \n",
    "\n",
    "# input array \n",
    "in_arr1 = geek.array([ 1, 2, 3] ) \n",
    "print (\"1st Input array : \\n\", in_arr1) \n",
    "\n",
    "in_arr2 = geek.array([ 4, 5, 6] ) \n",
    "print (\"2nd Input array : \\n\", in_arr2) \n",
    "\n",
    "# Stacking the two arrays vertically \n",
    "out_arr = geek.vstack((in_arr1, in_arr2)) \n",
    "print (\"Output vertically stacked array:\\n \", out_arr) \n"
   ]
  },
  {
   "cell_type": "markdown",
   "id": "e6cbefe0",
   "metadata": {},
   "source": [
    "### 6. Joining NumPy Array\n",
    "NumPy provides various functions to combine arrays. In this article, we will discuss some of the major ones.\n",
    "\n",
    "1. numpy.concatenate\n",
    "2. numpy.stack\n",
    "3. numpy.block"
   ]
  },
  {
   "cell_type": "code",
   "execution_count": 38,
   "id": "acdfa141",
   "metadata": {},
   "outputs": [
    {
     "name": "stdout",
     "output_type": "stream",
     "text": [
      "[1 2 3 4]\n"
     ]
    }
   ],
   "source": [
    "import numpy as np \n",
    "\n",
    "array_1 = np.array([1, 2]) \n",
    "array_2 = np.array([3, 4]) \n",
    "\n",
    "array_new = np.concatenate((array_1, array_2)) \n",
    "print(array_new) \n"
   ]
  },
  {
   "cell_type": "markdown",
   "id": "e420a226",
   "metadata": {},
   "source": [
    "### 7. Combining a one and a two-dimensional NumPy Array"
   ]
  },
  {
   "cell_type": "code",
   "execution_count": 39,
   "id": "73363e9e",
   "metadata": {},
   "outputs": [
    {
     "name": "stdout",
     "output_type": "stream",
     "text": [
      "One dimensional array:\n",
      "[0 1 2 3 4]\n",
      "\n",
      "Two dimensional array:\n",
      "[[0 1 2 3 4]\n",
      " [5 6 7 8 9]]\n",
      "0:0\n",
      "1:1\n",
      "2:2\n",
      "3:3\n",
      "4:4\n",
      "0:5\n",
      "1:6\n",
      "2:7\n",
      "3:8\n",
      "4:9\n"
     ]
    }
   ],
   "source": [
    "# importing Numpy package \n",
    "import numpy as np \n",
    "\n",
    "num_1d = np.arange(5) \n",
    "print(\"One dimensional array:\") \n",
    "print(num_1d) \n",
    "\n",
    "num_2d = np.arange(10).reshape(2,5) \n",
    "print(\"\\nTwo dimensional array:\") \n",
    "print(num_2d) \n",
    "\n",
    "# Combine 1-D and 2-D arrays and display \n",
    "# their elements using numpy.nditer() \n",
    "for a, b in np.nditer([num_1d, num_2d]): \n",
    "\tprint(\"%d:%d\" % (a, b),)\n"
   ]
  },
  {
   "cell_type": "markdown",
   "id": "bd0c170c",
   "metadata": {},
   "source": [
    "### 8. Combined array index by index"
   ]
  },
  {
   "cell_type": "code",
   "execution_count": 40,
   "id": "10662bda",
   "metadata": {},
   "outputs": [
    {
     "name": "stdout",
     "output_type": "stream",
     "text": [
      "[[[1 4]\n",
      "  [2 5]\n",
      "  [3 6]]]\n"
     ]
    }
   ],
   "source": [
    "# import numpy \n",
    "import numpy as np \n",
    "\n",
    "gfg1 = np.array([1, 2, 3]) \n",
    "gfg2 = np.array([4, 5, 6]) \n",
    "\n",
    "# using numpy.dstack() method \n",
    "print(np.dstack((gfg1, gfg2))) \n"
   ]
  },
  {
   "cell_type": "markdown",
   "id": "629bf670",
   "metadata": {},
   "source": [
    "### 9. Splitting Arrays in NumPy"
   ]
  },
  {
   "cell_type": "code",
   "execution_count": 41,
   "id": "07ac5555",
   "metadata": {},
   "outputs": [
    {
     "name": "stdout",
     "output_type": "stream",
     "text": [
      "Array:\n",
      "[0 1 2 3 4 5]\n",
      "\n",
      "Result after numpy.split():\n",
      "[array([0, 1, 2]), array([3, 4, 5])]\n"
     ]
    }
   ],
   "source": [
    "import numpy as np\n",
    "\n",
    "# Creating an example array\n",
    "array = np.arange(6)\n",
    "\n",
    "# Splitting the array into 2 equal parts along the first axis (axis=0)\n",
    "result = np.split(array, 2)\n",
    "\n",
    "print(\"Array:\")\n",
    "print(array)\n",
    "print(\"\\nResult after numpy.split():\")\n",
    "print(result)\n"
   ]
  },
  {
   "cell_type": "markdown",
   "id": "e49c4bca",
   "metadata": {},
   "source": [
    "### 10. Compare two NumPy arrays"
   ]
  },
  {
   "cell_type": "code",
   "execution_count": 42,
   "id": "6dbafa7a",
   "metadata": {},
   "outputs": [
    {
     "name": "stdout",
     "output_type": "stream",
     "text": [
      "True\n"
     ]
    }
   ],
   "source": [
    "import numpy as np\n",
    "\n",
    "an_array = np.array([[1, 2], [3, 4]])\n",
    "another_array = np.array([[1, 2], [3, 4]])\n",
    "\n",
    "comparison = an_array == another_array\n",
    "equal_arrays = comparison.all()\n",
    "\n",
    "print(equal_arrays)\n"
   ]
  },
  {
   "cell_type": "code",
   "execution_count": 43,
   "id": "b8c97596",
   "metadata": {},
   "outputs": [
    {
     "name": "stdout",
     "output_type": "stream",
     "text": [
      "Array a:  [101  99  87]\n",
      "Array b:  [897  97 111]\n",
      "a > b\n",
      "[False  True False]\n",
      "a >= b\n",
      "[False  True False]\n",
      "a < b\n",
      "[ True False  True]\n",
      "a <= b\n",
      "[ True False  True]\n"
     ]
    }
   ],
   "source": [
    "import numpy as np\n",
    "\n",
    "\n",
    "a = np.array([101, 99, 87])\n",
    "b = np.array([897, 97, 111])\n",
    "\n",
    "print(\"Array a: \", a)\n",
    "print(\"Array b: \", b)\n",
    "\n",
    "print(\"a > b\")\n",
    "print(np.greater(a, b))\n",
    "\n",
    "print(\"a >= b\")\n",
    "print(np.greater_equal(a, b))\n",
    "\n",
    "print(\"a < b\")\n",
    "print(np.less(a, b))\n",
    "\n",
    "print(\"a <= b\")\n",
    "print(np.less_equal(a, b))\n"
   ]
  },
  {
   "cell_type": "markdown",
   "id": "5c79b4b0",
   "metadata": {},
   "source": [
    "### 11. Find the union of two NumPy arrays"
   ]
  },
  {
   "cell_type": "code",
   "execution_count": 44,
   "id": "47398094",
   "metadata": {},
   "outputs": [
    {
     "name": "stdout",
     "output_type": "stream",
     "text": [
      "array1  [10 20 30 40]\n",
      "array2  [20 40 60 80]\n",
      "Union of two arrays : [10 20 30 40 60 80]\n"
     ]
    }
   ],
   "source": [
    "# import libraries \n",
    "import numpy as np \n",
    "\n",
    "\n",
    "arr1 = np.array([10, 20, 30, 40]) \n",
    "print(\"array1 \", arr1) \n",
    "\n",
    "arr2 = np.array([20, 40, 60, 80]) \n",
    "print(\"array2 \", arr2) \n",
    "\n",
    "# print union of the two arrays \n",
    "print(\"Union of two arrays :\", np.union1d(arr1, arr2)) \n"
   ]
  },
  {
   "cell_type": "markdown",
   "id": "3d05094e",
   "metadata": {},
   "source": [
    "### 12. Find unique rows in a NumPy array"
   ]
  },
  {
   "cell_type": "code",
   "execution_count": 45,
   "id": "478fdf2d",
   "metadata": {},
   "outputs": [
    {
     "name": "stdout",
     "output_type": "stream",
     "text": [
      "Original Array :\n",
      "[[11 11 12 11]\n",
      " [13 11 12 11]\n",
      " [16 11 12 11]\n",
      " [11 11 12 11]]\n",
      "Unique Rows:\n",
      "[11 12 13 16]\n"
     ]
    }
   ],
   "source": [
    "# import library\n",
    "import numpy as np\n",
    "\n",
    "# Create a 2D numpy array\n",
    "arr2D = np.array([[11, 11, 12, 11],\n",
    "\t\t\t\t\t[13, 11, 12, 11],\n",
    "\t\t\t\t\t[16, 11, 12, 11],\n",
    "\t\t\t\t\t[11, 11, 12, 11]])\n",
    "\n",
    "print('Original Array :' ,\n",
    "\tarr2D, sep = '\\n')\n",
    "\n",
    "uniqueRows = np.unique(arr2D)\n",
    "\t\t\t\t\t\t\n",
    "\n",
    "# print the output result\n",
    "print('Unique Rows:',\n",
    "\tuniqueRows, sep = '\\n')\n"
   ]
  },
  {
   "cell_type": "markdown",
   "id": "f5c9f124",
   "metadata": {},
   "source": [
    "### 13. Get the unique values from an array"
   ]
  },
  {
   "cell_type": "code",
   "execution_count": 46,
   "id": "3e7513f7",
   "metadata": {},
   "outputs": [
    {
     "name": "stdout",
     "output_type": "stream",
     "text": [
      "[1 2 3 4 6 8]\n"
     ]
    }
   ],
   "source": [
    "# import numpy \n",
    "import numpy as np \n",
    "\n",
    "a = [1, 2, 2, 4, 3, 6, 4, 8] \n",
    "\n",
    "# using np.unique() method \n",
    "gfg = np.unique(a) \n",
    "\n",
    "print(gfg) \n"
   ]
  },
  {
   "cell_type": "markdown",
   "id": "78e2a1f5",
   "metadata": {},
   "source": [
    "### 14. Trim the leading and/or trailing zeros from a 1-D array"
   ]
  },
  {
   "cell_type": "code",
   "execution_count": 47,
   "id": "94d3be6a",
   "metadata": {},
   "outputs": [
    {
     "name": "stdout",
     "output_type": "stream",
     "text": [
      "[ 1  5  7  0  6  2  9  0 10  0  0]\n"
     ]
    }
   ],
   "source": [
    "import numpy as geek \n",
    "gfg = geek.array((0, 0, 0, 0, 1, 5, 7, 0, 6, 2, 9, 0, 10, 0, 0)) \n",
    "\n",
    "# without trim parameter \n",
    "# returns an array without any leading zeros \n",
    "\n",
    "res = geek.trim_zeros(gfg, 'f') \n",
    "print(res) \n"
   ]
  },
  {
   "cell_type": "markdown",
   "id": "ddc42c0f",
   "metadata": {},
   "source": [
    "### 15. Insert a new axis within a NumPy array"
   ]
  },
  {
   "cell_type": "code",
   "execution_count": 31,
   "id": "ce347e25",
   "metadata": {},
   "outputs": [
    {
     "name": "stdout",
     "output_type": "stream",
     "text": [
      "(5, 5)\n",
      "(1, 5, 5, 1, 1)\n"
     ]
    }
   ],
   "source": [
    "import numpy as np\n",
    "\n",
    "arr = np.arange(5*5).reshape(5, 5)\n",
    "print(arr.shape)\n",
    "\n",
    "# promoting 2D array to a 5D array\n",
    "# arr[None, ..., None, None]\n",
    "arr_5D = arr[np.newaxis, ..., np.newaxis, np.newaxis]\n",
    "\n",
    "print(arr_5D.shape)\n"
   ]
  },
  {
   "cell_type": "markdown",
   "id": "5a025d1b",
   "metadata": {},
   "source": [
    "## 4. Matrix in NumPy"
   ]
  },
  {
   "cell_type": "markdown",
   "id": "81fece0f",
   "metadata": {},
   "source": [
    "In python matrix can be implemented as 2D list or 2D Array. Forming matrix from latter, gives the additional functionalities for performing various operations in matrix. These operations and array are defines in module “numpy“. \n",
    "\n",
    "Operation on Matrix : \n",
    "\n",
    "1. add() :- This function is used to perform element wise matrix addition. \n",
    "2. subtract() :- This function is used to perform element wise matrix subtraction. \n",
    "3. divide() :- This function is used to perform element wise matrix division. \n",
    "4. multiply() :- This function is used to perform element wise matrix multiplication. \n",
    "5. dot() :- This function is used to compute the matrix multiplication, rather than element wise multiplication. \n",
    "6. sqrt() :- This function is used to compute the square root of each element of matrix. \n",
    "7. sum(x,axis) :- This function is used to add all the elements in matrix. Optional “axis” argument computes the column sum if axis is 0 and row sum if axis is 1. \n",
    "8. “T” :- This argument is used to transpose the specified matrix. "
   ]
  },
  {
   "cell_type": "code",
   "execution_count": 11,
   "id": "4a75005d",
   "metadata": {},
   "outputs": [
    {
     "name": "stdout",
     "output_type": "stream",
     "text": [
      "The element wise addition of matrix is : \n",
      "[[ 8 10]\n",
      " [13 15]]\n",
      "The element wise subtraction of matrix is : \n",
      "[[-6 -6]\n",
      " [-5 -5]]\n",
      "The element wise division of matrix is : \n",
      "[[0.14285714 0.25      ]\n",
      " [0.44444444 0.5       ]]\n"
     ]
    }
   ],
   "source": [
    "# Python code to demonstrate matrix operations \n",
    "# add(), subtract() and divide() \n",
    "\n",
    "# importing numpy for matrix operations \n",
    "import numpy \n",
    "\n",
    "# initializing matrices \n",
    "x = numpy.array([[1, 2], [4, 5]]) \n",
    "y = numpy.array([[7, 8], [9, 10]]) \n",
    "\n",
    "# using add() to add matrices \n",
    "print (\"The element wise addition of matrix is : \") \n",
    "print (numpy.add(x,y)) \n",
    "\n",
    "# using subtract() to subtract matrices \n",
    "print (\"The element wise subtraction of matrix is : \") \n",
    "print (numpy.subtract(x,y)) \n",
    "\n",
    "# using divide() to divide matrices \n",
    "print (\"The element wise division of matrix is : \") \n",
    "print (numpy.divide(x,y)) \n"
   ]
  },
  {
   "cell_type": "code",
   "execution_count": 12,
   "id": "aacb6924",
   "metadata": {},
   "outputs": [
    {
     "name": "stdout",
     "output_type": "stream",
     "text": [
      "The element wise multiplication of matrix is : \n",
      "[[ 7 16]\n",
      " [36 50]]\n",
      "The product of matrices is : \n",
      "[[25 28]\n",
      " [73 82]]\n"
     ]
    }
   ],
   "source": [
    "# Python code to demonstrate matrix operations \n",
    "# multiply() and dot() \n",
    "\n",
    "# importing numpy for matrix operations \n",
    "import numpy \n",
    "\n",
    "# initializing matrices \n",
    "x = numpy.array([[1, 2], [4, 5]]) \n",
    "y = numpy.array([[7, 8], [9, 10]]) \n",
    "\n",
    "# using multiply() to multiply matrices element wise \n",
    "print (\"The element wise multiplication of matrix is : \") \n",
    "print (numpy.multiply(x,y)) \n",
    "\n",
    "# using dot() to multiply matrices \n",
    "print (\"The product of matrices is : \") \n",
    "print (numpy.dot(x,y)) \n"
   ]
  },
  {
   "cell_type": "code",
   "execution_count": 13,
   "id": "f346549e",
   "metadata": {},
   "outputs": [
    {
     "name": "stdout",
     "output_type": "stream",
     "text": [
      "The element wise square root is : \n",
      "[[1.         1.41421356]\n",
      " [2.         2.23606798]]\n",
      "The summation of all matrix element is : \n",
      "34\n",
      "The column wise summation of all matrix is : \n",
      "[16 18]\n",
      "The row wise summation of all matrix is : \n",
      "[15 19]\n",
      "The transpose of given matrix is : \n",
      "[[1 4]\n",
      " [2 5]]\n"
     ]
    }
   ],
   "source": [
    "# Python code to demonstrate matrix operations \n",
    "# sqrt(), sum() and \"T\" \n",
    "\n",
    "# importing numpy for matrix operations \n",
    "import numpy \n",
    "\n",
    "# initializing matrices \n",
    "x = numpy.array([[1, 2], [4, 5]]) \n",
    "y = numpy.array([[7, 8], [9, 10]]) \n",
    "\n",
    "# using sqrt() to print the square root of matrix \n",
    "print (\"The element wise square root is : \") \n",
    "print (numpy.sqrt(x)) \n",
    "\n",
    "# using sum() to print summation of all elements of matrix \n",
    "print (\"The summation of all matrix element is : \") \n",
    "print (numpy.sum(y)) \n",
    "\n",
    "# using sum(axis=0) to print summation of all columns of matrix \n",
    "print (\"The column wise summation of all matrix is : \") \n",
    "print (numpy.sum(y,axis=0)) \n",
    "\n",
    "# using sum(axis=1) to print summation of all columns of matrix \n",
    "print (\"The row wise summation of all matrix is : \") \n",
    "print (numpy.sum(y,axis=1)) \n",
    "\n",
    "# using \"T\" to transpose the matrix \n",
    "print (\"The transpose of given matrix is : \") \n",
    "print (x.T) \n"
   ]
  },
  {
   "cell_type": "code",
   "execution_count": 14,
   "id": "ff7b152b",
   "metadata": {},
   "outputs": [
    {
     "name": "stdout",
     "output_type": "stream",
     "text": [
      "Addition of matrices: \n",
      " [[8, 10], [13, 15]]\n",
      "Subtraction of matrices: \n",
      " [[-6, -6], [-5, -5]]\n",
      "Division of matrices: \n",
      " [[0.14285714285714285, 0.25], [0.4444444444444444, 0.5]]\n"
     ]
    }
   ],
   "source": [
    "# Using nested loops:\n",
    "A = [[1,2],[4,5]] \n",
    "B = [[7,8],[9,10]] \n",
    "rows = len(A) \n",
    "cols = len(A[0]) \n",
    "\n",
    "# Element wise addition \n",
    "C = [[0 for i in range(cols)] for j in range(rows)] \n",
    "for i in range(rows): \n",
    "\tfor j in range(cols): \n",
    "\t\tC[i][j] = A[i][j] + B[i][j] \n",
    "print(\"Addition of matrices: \\n\", C) \n",
    "\n",
    "# Element wise subtraction \n",
    "D = [[0 for i in range(cols)] for j in range(rows)] \n",
    "for i in range(rows): \n",
    "\tfor j in range(cols): \n",
    "\t\tD[i][j] = A[i][j] - B[i][j] \n",
    "print(\"Subtraction of matrices: \\n\", D) \n",
    "\n",
    "# Element wise division \n",
    "E = [[0 for i in range(cols)] for j in range(rows)] \n",
    "for i in range(rows): \n",
    "\tfor j in range(cols): \n",
    "\t\tE[i][j] = A[i][j] / B[i][j] \n",
    "print(\"Division of matrices: \\n\", E) \n"
   ]
  },
  {
   "cell_type": "markdown",
   "id": "99d35aa3",
   "metadata": {},
   "source": [
    "## 5. Operations on NumPy Array"
   ]
  },
  {
   "cell_type": "markdown",
   "id": "3402f455",
   "metadata": {},
   "source": [
    "1. Binary Operations\n",
    "2. Mathematical Function\n",
    "3. String Operations"
   ]
  },
  {
   "cell_type": "markdown",
   "id": "4bee2975",
   "metadata": {},
   "source": [
    "## 6. Reshaping NumPy Array"
   ]
  },
  {
   "cell_type": "markdown",
   "id": "9b249b6b",
   "metadata": {},
   "source": [
    "### 1. Reshaping : 1-D to 2D \n",
    "### 2. Reshaping : 1-D to 3-D \n",
    "### 3. Reshaping N-D to 1-D array \n",
    "### 4. Reshaping using unknown dimension \n",
    "### 5. Errors Occur during reshaping "
   ]
  },
  {
   "cell_type": "code",
   "execution_count": 48,
   "id": "799b9458",
   "metadata": {},
   "outputs": [
    {
     "name": "stdout",
     "output_type": "stream",
     "text": [
      "Array : [ 1  2  3  4  5  6  7  8  9 10 11 12 13 14 15 16]\n",
      "First Reshaped Array : \n",
      "[[ 1  2  3  4]\n",
      " [ 5  6  7  8]\n",
      " [ 9 10 11 12]\n",
      " [13 14 15 16]]\n",
      "Second Reshaped Array : \n",
      "[[ 1  2  3  4  5  6  7  8]\n",
      " [ 9 10 11 12 13 14 15 16]]\n"
     ]
    }
   ],
   "source": [
    "# 1. Reshaping : 1-D to 2D\n",
    "# importing numpy\n",
    "import numpy as np\n",
    "\n",
    "# creating a numpy array\n",
    "array = np.array([1, 2, 3, 4, 5, 6, 7, 8, 9, 10, 11, 12, 13, 14, 15, 16])\n",
    "\n",
    "# printing array\n",
    "print(\"Array : \" + str(array))\n",
    "\n",
    "# length of array\n",
    "n = array.size\n",
    "\n",
    "# N-D array N dimension\n",
    "N = 4\n",
    "\n",
    "# calculating M\n",
    "M = n//N\n",
    "\n",
    "# reshaping numpy array\n",
    "# converting it to 2-D from 1-D array\n",
    "reshaped1 = array.reshape((N, M))\n",
    "\n",
    "# printing reshaped array\n",
    "print(\"First Reshaped Array : \")\n",
    "print(reshaped1)\n",
    "\n",
    "# creating another reshaped array\n",
    "reshaped2 = np.reshape(array, (2, 8))\n",
    "\n",
    "# printing reshaped array\n",
    "print(\"Second Reshaped Array : \")\n",
    "print(reshaped2)\n"
   ]
  },
  {
   "cell_type": "code",
   "execution_count": 49,
   "id": "b413d779",
   "metadata": {},
   "outputs": [
    {
     "name": "stdout",
     "output_type": "stream",
     "text": [
      "Array : [ 1  2  3  4  5  6  7  8  9 10 11 12 13 14 15 16]\n",
      "Reshaped 3-D Array : \n",
      "[[[ 1  2  3  4]\n",
      "  [ 5  6  7  8]]\n",
      "\n",
      " [[ 9 10 11 12]\n",
      "  [13 14 15 16]]]\n"
     ]
    }
   ],
   "source": [
    "# 2. Reshaping : 1-D to 3-D\n",
    "# importing numpy\n",
    "import numpy as np\n",
    "\n",
    "# creating a numpy array\n",
    "array = np.array([1, 2, 3, 4, 5, 6, 7, 8, 9, 10, 11, 12, 13, 14, 15, 16])\n",
    "\n",
    "# printing array\n",
    "print(\"Array : \" + str(array))\n",
    "\n",
    "\n",
    "# reshaping numpy array\n",
    "# converting it to 3-D from 1-D array\n",
    "reshaped = array.reshape((2, 2, 4))\n",
    "\n",
    "# printing reshaped array\n",
    "print(\"Reshaped 3-D Array : \")\n",
    "print(reshaped)\n"
   ]
  },
  {
   "cell_type": "code",
   "execution_count": 50,
   "id": "bc665a42",
   "metadata": {},
   "outputs": [
    {
     "name": "stdout",
     "output_type": "stream",
     "text": [
      " 2-D Array : \n",
      "[[1 2 3]\n",
      " [4 5 6]\n",
      " [7 8 9]]\n",
      "Reshaped 1-D Array : \n",
      "[1 2 3 4 5 6 7 8 9]\n"
     ]
    }
   ],
   "source": [
    "# 3. Reshaping N-D to 1-D array \n",
    "# importing numpy\n",
    "import numpy as np\n",
    "\n",
    "# creating a numpy array\n",
    "array = np.array([[1, 2, 3],\n",
    "\t\t\t\t[4, 5, 6],\n",
    "\t\t\t\t[7, 8, 9]])\n",
    "\n",
    "# printing array\n",
    "print(\" 2-D Array : \")\n",
    "print(array)\n",
    "\n",
    "\n",
    "# reshaping numpy array\n",
    "# converting it to 1-D from 2-D array\n",
    "reshaped = array.reshape((9))\n",
    "\n",
    "# or we can use unknown dimension\n",
    "# reshaped = array.reshape((-1))\n",
    "\n",
    "# printing reshaped array\n",
    "print(\"Reshaped 1-D Array : \")\n",
    "print(reshaped)\n"
   ]
  },
  {
   "cell_type": "code",
   "execution_count": 51,
   "id": "c82b6abd",
   "metadata": {},
   "outputs": [
    {
     "name": "stdout",
     "output_type": "stream",
     "text": [
      "Array : [ 1  2  3  4  5  6  7  8  9 10 11 12 13 14 15 16]\n",
      "First Reshaped Array : \n",
      "[[[ 1  2  3  4]\n",
      "  [ 5  6  7  8]]\n",
      "\n",
      " [[ 9 10 11 12]\n",
      "  [13 14 15 16]]]\n",
      "Second Reshaped Array : \n",
      "[[ 1  2  3  4]\n",
      " [ 5  6  7  8]\n",
      " [ 9 10 11 12]\n",
      " [13 14 15 16]]\n"
     ]
    }
   ],
   "source": [
    "# 4. Reshaping using unknown dimension \n",
    "# importing numpy\n",
    "import numpy as np\n",
    "\n",
    "# creating a numpy array\n",
    "array = np.array([1, 2, 3, 4, 5, 6, 7, 8, 9, 10, 11, 12, 13, 14, 15, 16])\n",
    "\n",
    "# printing array\n",
    "print(\"Array : \" + str(array))\n",
    "\n",
    "\n",
    "# reshaping numpy array\n",
    "# converting it to 3-D from 1-D array\n",
    "reshaped1 = array.reshape((2, 2, -1))\n",
    "\n",
    "# printing reshaped array\n",
    "print(\"First Reshaped Array : \")\n",
    "print(reshaped1)\n",
    "\n",
    "\n",
    "# converting it to 2-D array\n",
    "reshaped2 = array.reshape((4, -1))\n",
    "\n",
    "# printing reshaped array\n",
    "print(\"Second Reshaped Array : \")\n",
    "print(reshaped2)\n"
   ]
  },
  {
   "cell_type": "code",
   "execution_count": null,
   "id": "f4c17be3",
   "metadata": {},
   "outputs": [],
   "source": [
    "# 5. Errors Occur during reshaping \n",
    "# importing numpy\n",
    "import numpy as np\n",
    "\n",
    "# creating a numpy array\n",
    "array = np.array([[1, 2, 3],\n",
    "\t\t\t\t[4, 5, 6],\n",
    "\t\t\t\t[7, 8, 9]])\n",
    "\n",
    "# printing array\n",
    "print(\" 2-D Array : \")\n",
    "print(array)\n",
    "\n",
    "\n",
    "# reshaping numpy array\n",
    "# converting it to 1-D from 2-D array\n",
    "# reshaping it into 1, 5\n",
    "reshaped = array.reshape((1, 5))\n",
    "\n",
    "# or we can use \n",
    "\n",
    "# printing reshaped array\n",
    "print(\"Reshaped 1-D Array : \")\n",
    "print(reshaped)"
   ]
  },
  {
   "cell_type": "markdown",
   "id": "41a617fd",
   "metadata": {},
   "source": [
    "## 7. Indexing NumPy Array"
   ]
  },
  {
   "cell_type": "markdown",
   "id": "12a5b487",
   "metadata": {},
   "source": [
    "### Types of Indexing in NumPy Array\n",
    "There are two types of indexing used in Python NumPy:\n",
    "\n",
    "### 1. Basic slicing and indexing\n",
    "### 2. Advanced indexing"
   ]
  },
  {
   "cell_type": "markdown",
   "id": "38a3438b",
   "metadata": {},
   "source": [
    "### 1. Basic slicing and indexing\n",
    "Basic slicing and indexing is used to access a specific element or range of elements from a NumPy array.\n",
    "\n",
    "Basic slicing and indexing only return the view of the array."
   ]
  },
  {
   "cell_type": "code",
   "execution_count": 15,
   "id": "a350ac75",
   "metadata": {
    "tags": []
   },
   "outputs": [
    {
     "name": "stdout",
     "output_type": "stream",
     "text": [
      "[[ 2  5]\n",
      " [ 8 11]]\n"
     ]
    }
   ],
   "source": [
    "import numpy as np  \n",
    "# A 3 dimensional array.  \n",
    "b = np.array([[[1, 2, 3],[4, 5, 6]],  \n",
    "            [[7, 8, 9],[10, 11, 12]]])  \n",
    "print(b[...,1]) #Equivalent to b[: ,: ,1 ]"
   ]
  },
  {
   "cell_type": "markdown",
   "id": "8cb5f214",
   "metadata": {},
   "source": [
    "### 2. Advanced indexing\n",
    "NumPy Advanced indexing returns a copy of data rather than a view of it. Advanced indexing is of two types integer and Boolean."
   ]
  },
  {
   "cell_type": "code",
   "execution_count": 65,
   "id": "795b7aec",
   "metadata": {},
   "outputs": [
    {
     "name": "stdout",
     "output_type": "stream",
     "text": [
      "[1 3 6]\n"
     ]
    }
   ],
   "source": [
    "# Example: Using purely integer array indexing\n",
    "# Python program showing advanced indexing \n",
    "import numpy as np \n",
    "a = np.array([[1 ,2 ],[3 ,4 ],[5 ,6 ]]) \n",
    "print(a[[0 ,1 ,2 ],[0 ,0 ,1]])\n"
   ]
  },
  {
   "cell_type": "code",
   "execution_count": 66,
   "id": "175b071d",
   "metadata": {},
   "outputs": [
    {
     "name": "stdout",
     "output_type": "stream",
     "text": [
      "[ 80 100]\n"
     ]
    }
   ],
   "source": [
    "# Example 1: Using boolean indexing on NumPy array to find numbers greater than 50\n",
    "# You may wish to select numbers greater than 50 \n",
    "import numpy as np \n",
    "\n",
    "a = np.array([10, 40, 80, 50, 100]) \n",
    "print(a[a>50])\n"
   ]
  },
  {
   "cell_type": "markdown",
   "id": "8b4af23c",
   "metadata": {},
   "source": [
    "## 8. Arithmetic operations on NumPyArray"
   ]
  },
  {
   "cell_type": "markdown",
   "id": "e4083b6e",
   "metadata": {},
   "source": [
    "### 1. Broadcasting with NumPy Arrays\n",
    "### 2. Estimation of Variable\n",
    "### 3. Operations on Numpy Arrays"
   ]
  },
  {
   "cell_type": "markdown",
   "id": "682a1cbe",
   "metadata": {},
   "source": [
    "### 1. Broadcasting with NumPy Arrays\n",
    "The term broadcasting refers to the \"ability of NumPy to treat arrays with different dimensions during arithmetic operations\". This process involves certain rules that allow the smaller array to be ‘broadcast’ across the larger one, ensuring that they have compatible shapes for these operations.\n",
    "\n",
    "Broadcasting is not limited to two arrays; it can be applied over multiple arrays as well."
   ]
  },
  {
   "cell_type": "code",
   "execution_count": 76,
   "id": "72dc7f24",
   "metadata": {},
   "outputs": [
    {
     "name": "stdout",
     "output_type": "stream",
     "text": [
      "[450 350   0  30]\n"
     ]
    }
   ],
   "source": [
    "import numpy as np \n",
    "\n",
    "a = np.array([5, 7, 3, 1]) \n",
    "b = np.array([90, 50, 0, 30]) \n",
    "\n",
    "# array are compatible because of same Dimension \n",
    "c = a * b \n",
    "print(c) \n"
   ]
  },
  {
   "cell_type": "markdown",
   "id": "ed7b4bf6",
   "metadata": {},
   "source": [
    "### 2. Estimation of Variable\n",
    "Variability: It is the import dimension that measures the data variation i.e. whether the data is spread out or tightly clustered. Also known as Dispersion When working on data sets in Machine Learning or Data Science, involves many steps – variance measurement, reduction, and distinguishing random variability from the real one. identifying sources of real variability, making decisions regarding the pre-processing choice or model selection based on it.\n",
    "\n",
    " Terms related to Variability Metrics : "
   ]
  },
  {
   "cell_type": "markdown",
   "id": "225d9e04",
   "metadata": {},
   "source": [
    "-> Deviation \n",
    "-> Variance\n",
    "-> Standard Deviation\n",
    "-> Mean Absolute Deviation\n",
    "-> Median Absolute Deviation\n",
    "-> Order Statistics\n",
    "-> Range\n",
    "-> Percentile \n",
    "-> Inter-quartile Range"
   ]
  },
  {
   "cell_type": "markdown",
   "id": "3a6b95de",
   "metadata": {},
   "source": [
    "- Deviation: We can call it – errors or residuals also. It is the measure of how different/dispersed the values are, from the central/observed value. \n",
    "- Variance (s2): It is the best-known measure to estimate the variability as it is Squared Deviation. One can call it mean squared error as it is the average of standard deviation."
   ]
  },
  {
   "cell_type": "code",
   "execution_count": 72,
   "id": "622bb5cc",
   "metadata": {},
   "outputs": [
    {
     "name": "stdout",
     "output_type": "stream",
     "text": [
      "Variance :  5.5555555555555545\n"
     ]
    }
   ],
   "source": [
    "# Variance\n",
    "\n",
    "import numpy as np\n",
    "\n",
    "Sequence = [2, 3, 5, 6, 7, 9]\n",
    "\n",
    "var = np.var(Sequence)\n",
    "\n",
    "print(\"Variance : \", var)\n"
   ]
  },
  {
   "cell_type": "markdown",
   "id": "c4421c11",
   "metadata": {},
   "source": [
    "- Standard Deviation: It is the square root of Variance. Is also referred to as Euclidean Norm."
   ]
  },
  {
   "cell_type": "code",
   "execution_count": 74,
   "id": "396a08ef",
   "metadata": {},
   "outputs": [
    {
     "name": "stdout",
     "output_type": "stream",
     "text": [
      "Standard Deviation :  2.357022603955158\n"
     ]
    }
   ],
   "source": [
    "# Standard Deviation\n",
    "\n",
    "import numpy as np\n",
    "\n",
    "Sequence = [2, 3, 5, 6, 7, 9]\n",
    "\n",
    "std = np.std(Sequence)\n",
    "\n",
    "print(\"Standard Deviation : \", std)\n"
   ]
  },
  {
   "cell_type": "markdown",
   "id": "80451877",
   "metadata": {},
   "source": [
    "- Mean Absolute Deviation: One can estimate a typical estimation for these deviations. If we average the values, the negative deviations would offset the positive ones. Also, the sum of deviations from the mean is always zero. So, it is a simple approach to take the average deviation itself."
   ]
  },
  {
   "cell_type": "code",
   "execution_count": 75,
   "id": "01fcda99",
   "metadata": {},
   "outputs": [
    {
     "name": "stdout",
     "output_type": "stream",
     "text": [
      "Mean Absolute Deviation :  2.0\n"
     ]
    }
   ],
   "source": [
    "# Mean Absolute Deviation\n",
    "\n",
    "import numpy as np\n",
    "\n",
    "def mad(data):\n",
    "\treturn np.mean(np.absolute(\n",
    "\t\t\tdata - np.mean(data)))\n",
    "\t\n",
    "Sequence = [2, 4, 6, 8] \n",
    "\n",
    "print (\"Mean Absolute Deviation : \", mad(Sequence))\n"
   ]
  },
  {
   "cell_type": "markdown",
   "id": "dd2eac74",
   "metadata": {},
   "source": [
    "### 3. Operations on Numpy Arrays"
   ]
  },
  {
   "cell_type": "code",
   "execution_count": 67,
   "id": "f2c74a4e",
   "metadata": {},
   "outputs": [
    {
     "name": "stdout",
     "output_type": "stream",
     "text": [
      "First array:\n",
      "[[0. 1.]\n",
      " [2. 3.]]\n",
      "\n",
      "Second array:\n",
      "[12 12]\n",
      "\n",
      "Adding the two arrays:\n",
      "[[12. 13.]\n",
      " [14. 15.]]\n",
      "\n",
      "Subtracting the two arrays:\n",
      "[[-12. -11.]\n",
      " [-10.  -9.]]\n",
      "\n",
      "Multiplying the two arrays:\n",
      "[[ 0. 12.]\n",
      " [24. 36.]]\n",
      "\n",
      "Dividing the two arrays:\n",
      "[[0.         0.08333333]\n",
      " [0.16666667 0.25      ]]\n"
     ]
    }
   ],
   "source": [
    "# Python code to perform arithmetic\n",
    "# operations on NumPy array\n",
    "\n",
    "\n",
    "import numpy as np \n",
    "\n",
    "\n",
    "# Initializing the array\n",
    "arr1 = np.arange(4, dtype = np.float_).reshape(2, 2) \n",
    "\n",
    "print('First array:') \n",
    "print(arr1)\n",
    "\n",
    "print('\\nSecond array:') \n",
    "arr2 = np.array([12, 12]) \n",
    "print(arr2)\n",
    "\n",
    "print('\\nAdding the two arrays:') \n",
    "print(np.add(arr1, arr2))\n",
    "\n",
    "print('\\nSubtracting the two arrays:') \n",
    "print(np.subtract(arr1, arr2))\n",
    "\n",
    "print('\\nMultiplying the two arrays:')\n",
    "print(np.multiply(arr1, arr2))\n",
    "\n",
    "print('\\nDividing the two arrays:')\n",
    "print(np.divide(arr1, arr2))\n"
   ]
  },
  {
   "cell_type": "code",
   "execution_count": 68,
   "id": "d7af4a8a",
   "metadata": {},
   "outputs": [
    {
     "name": "stdout",
     "output_type": "stream",
     "text": [
      "Our array is:\n",
      "[ 25.     1.33   1.     1.   100.  ]\n",
      "\n",
      "After applying reciprocal function:\n",
      "[0.04      0.7518797 1.        1.        0.01     ]\n",
      "\n",
      "The second array is:\n",
      "[25]\n",
      "\n",
      "After applying reciprocal function:\n",
      "[0]\n"
     ]
    }
   ],
   "source": [
    "# Python code to perform reciprocal operation\n",
    "# on NumPy array\n",
    "import numpy as np \n",
    "arr = np.array([25, 1.33, 1, 1, 100]) \n",
    "\n",
    "print('Our array is:')\n",
    "print(arr)\n",
    "\n",
    "print('\\nAfter applying reciprocal function:') \n",
    "print(np.reciprocal(arr))\n",
    "\n",
    "arr2 = np.array([25], dtype = int)\n",
    "print('\\nThe second array is:')\n",
    "print(arr2)\n",
    "\n",
    "print('\\nAfter applying reciprocal function:') \n",
    "print(np.reciprocal(arr2))\n"
   ]
  },
  {
   "cell_type": "code",
   "execution_count": 69,
   "id": "04654d1a",
   "metadata": {},
   "outputs": [
    {
     "name": "stdout",
     "output_type": "stream",
     "text": [
      "First array is:\n",
      "[ 5 10 15]\n",
      "\n",
      "Applying power function:\n",
      "[ 25 100 225]\n",
      "\n",
      "Second array is:\n",
      "[1 2 3]\n",
      "\n",
      "Applying power function again:\n",
      "[   5  100 3375]\n"
     ]
    }
   ],
   "source": [
    "# Python code to perform power operation\n",
    "# on NumPy array\n",
    "\n",
    "\n",
    "import numpy as np \n",
    "\n",
    "\n",
    "arr = np.array([5, 10, 15]) \n",
    "\n",
    "print('First array is:') \n",
    "print(arr)\n",
    "\n",
    "print('\\nApplying power function:') \n",
    "print(np.power(arr, 2))\n",
    "\n",
    "print('\\nSecond array is:') \n",
    "arr1 = np.array([1, 2, 3]) \n",
    "print(arr1)\n",
    "\n",
    "print('\\nApplying power function again:') \n",
    "print(np.power(arr, arr1))\n"
   ]
  },
  {
   "cell_type": "code",
   "execution_count": 70,
   "id": "61ac0d6f",
   "metadata": {},
   "outputs": [
    {
     "name": "stdout",
     "output_type": "stream",
     "text": [
      "First array:\n",
      "[ 5 15 20]\n",
      "\n",
      "Second array:\n",
      "[2 5 9]\n",
      "\n",
      "Applying mod() function:\n",
      "[1 0 2]\n",
      "\n",
      "Applying remainder() function:\n",
      "[1 0 2]\n"
     ]
    }
   ],
   "source": [
    "# Python code to perform mod function\n",
    "# on NumPy array\n",
    "\n",
    "\n",
    "import numpy as np \n",
    "\n",
    "\n",
    "arr = np.array([5, 15, 20]) \n",
    "arr1 = np.array([2, 5, 9]) \n",
    "\n",
    "print('First array:') \n",
    "print(arr) \n",
    "\n",
    "print('\\nSecond array:') \n",
    "print(arr1)\n",
    "\n",
    "print('\\nApplying mod() function:') \n",
    "print(np.mod(arr, arr1))\n",
    "\n",
    "print('\\nApplying remainder() function:') \n",
    "print(np.remainder(arr, arr1))\n"
   ]
  },
  {
   "cell_type": "markdown",
   "id": "612b68c8",
   "metadata": {},
   "source": [
    "## 9. Linear Algebra in NumPy Array"
   ]
  },
  {
   "cell_type": "markdown",
   "id": "87105847",
   "metadata": {},
   "source": [
    "The Linear Algebra module of NumPy offers various methods to apply linear algebra on any numpy array.\n",
    "One can find:\n",
    "\n",
    "### 1. rank, determinant, trace, etc. of an array.\n",
    "### 2. eigen values of matrices\n",
    "### 3. matrix and vector products (dot, inner, outer,etc. product), matrix exponentiation\n",
    "### 4. solve linear or tensor equations and much more!"
   ]
  },
  {
   "cell_type": "code",
   "execution_count": 59,
   "id": "f4f710f8",
   "metadata": {},
   "outputs": [
    {
     "name": "stdout",
     "output_type": "stream",
     "text": [
      "Rank of A: 3\n",
      "\n",
      "Trace of A: 11\n",
      "\n",
      "Determinant of A: -306.0\n",
      "\n",
      "Inverse of A:\n",
      " [[ 0.17647059 -0.00326797 -0.02287582]\n",
      " [ 0.05882353 -0.13071895  0.08496732]\n",
      " [-0.11764706  0.1503268   0.05228758]]\n",
      "\n",
      "Matrix A raised to power 3:\n",
      " [[336 162 228]\n",
      " [406 162 469]\n",
      " [698 702 905]]\n"
     ]
    }
   ],
   "source": [
    "# 1. rank, determinant, trace, etc. of an array.\n",
    "# Importing numpy as np\n",
    "import numpy as np\n",
    " \n",
    "A = np.array([[6, 1, 1],\n",
    "              [4, -2, 5],\n",
    "              [2, 8, 7]])\n",
    " \n",
    "# Rank of a matrix\n",
    "print(\"Rank of A:\", np.linalg.matrix_rank(A))\n",
    " \n",
    "# Trace of matrix A\n",
    "print(\"\\nTrace of A:\", np.trace(A))\n",
    " \n",
    "# Determinant of a matrix\n",
    "print(\"\\nDeterminant of A:\", np.linalg.det(A))\n",
    " \n",
    "# Inverse of matrix A\n",
    "print(\"\\nInverse of A:\\n\", np.linalg.inv(A))\n",
    " \n",
    "print(\"\\nMatrix A raised to power 3:\\n\",\n",
    "           np.linalg.matrix_power(A, 3))"
   ]
  },
  {
   "cell_type": "code",
   "execution_count": 60,
   "id": "6913d799",
   "metadata": {},
   "outputs": [
    {
     "name": "stdout",
     "output_type": "stream",
     "text": [
      "Array is : [[ 1.+0.j -0.-2.j]\n",
      " [ 0.+2.j  5.+0.j]]\n",
      "Eigen value is : [0.17157288 5.82842712]\n",
      "Eigen value is : [[-0.92387953-0.j         -0.38268343+0.j        ]\n",
      " [ 0.        +0.38268343j  0.        -0.92387953j]]\n"
     ]
    }
   ],
   "source": [
    "# 2. eigen values of matrices\n",
    "# Python program explaining\n",
    "# eigh() function\n",
    " \n",
    "from numpy import linalg as geek\n",
    " \n",
    "# Creating an array using array \n",
    "# function\n",
    "a = np.array([[1, -2j], [2j, 5]])\n",
    " \n",
    "print(\"Array is :\",a)\n",
    " \n",
    "# calculating an eigen value\n",
    "# using eigh() function\n",
    "c, d = geek.eigh(a)\n",
    " \n",
    "print(\"Eigen value is :\", c)\n",
    "print(\"Eigen value is :\", d)"
   ]
  },
  {
   "cell_type": "code",
   "execution_count": 61,
   "id": "f2cfbbd1",
   "metadata": {},
   "outputs": [
    {
     "name": "stdout",
     "output_type": "stream",
     "text": [
      "Dot Product of scalar values  :  20\n",
      "Dot Product  :  (-7+22j)\n"
     ]
    }
   ],
   "source": [
    "# 3. matrix and vector products (dot, inner, outer,etc. product), matrix exponentiation\n",
    "# Python Program illustrating\n",
    "# numpy.dot() method\n",
    " \n",
    "import numpy as geek\n",
    " \n",
    "# Scalars\n",
    "product = geek.dot(5, 4)\n",
    "print(\"Dot Product of scalar values  : \", product)\n",
    " \n",
    "# 1D array\n",
    "vector_a = 2 + 3j\n",
    "vector_b = 4 + 5j\n",
    " \n",
    "product = geek.dot(vector_a, vector_b)\n",
    "print(\"Dot Product  : \", product)"
   ]
  },
  {
   "cell_type": "code",
   "execution_count": 62,
   "id": "6e0c9ee9",
   "metadata": {},
   "outputs": [
    {
     "name": "stdout",
     "output_type": "stream",
     "text": [
      "('Solution of linear equations:', array([2., 3.]))\n"
     ]
    }
   ],
   "source": [
    "# 4. solve linear or tensor equations and much more!\n",
    "# Python Program illustrating\n",
    "# numpy.linalg.solve() method\n",
    " \n",
    "import numpy as np\n",
    " \n",
    "# Creating an array using array\n",
    "# function\n",
    "a = np.array([[1, 2], [3, 4]])\n",
    " \n",
    "# Creating an array using array\n",
    "# function\n",
    "b = np.array([8, 18])\n",
    " \n",
    "print((\"Solution of linear equations:\", \n",
    "      np.linalg.solve(a, b)))"
   ]
  },
  {
   "cell_type": "markdown",
   "id": "9858a619",
   "metadata": {},
   "source": [
    "## 10. NumPy and Random Data"
   ]
  },
  {
   "cell_type": "markdown",
   "id": "9b9455bf",
   "metadata": {},
   "source": [
    "### 1. ranf() function\n",
    "### 2. random_sample() function\n",
    "### 3. randint() function\n",
    "### 4. numpy.random.choice() in Python\n",
    "### 5. numpy.random.geometric() in Python"
   ]
  },
  {
   "cell_type": "code",
   "execution_count": 77,
   "id": "108cc5d7",
   "metadata": {},
   "outputs": [
    {
     "name": "stdout",
     "output_type": "stream",
     "text": [
      "Output 3D Array filled with random floats :  [[[0.47378028 0.40057897]\n",
      "  [0.5859913  0.7999311 ]\n",
      "  [0.46115596 0.83988687]]\n",
      "\n",
      " [[0.79947579 0.50103338]\n",
      "  [0.05755611 0.08174027]\n",
      "  [0.52474245 0.96975463]]]\n"
     ]
    }
   ],
   "source": [
    "# 1. ranf() function\n",
    "# Python program explaining \n",
    "# numpy.random.random() function \n",
    "\n",
    "# importing numpy \n",
    "import numpy as geek \n",
    "\n",
    "# output array \n",
    "out_arr = geek.random.random((2, 3, 2)) \n",
    "print (\"Output 3D Array filled with random floats : \", out_arr) \n"
   ]
  },
  {
   "cell_type": "code",
   "execution_count": 78,
   "id": "acff799d",
   "metadata": {},
   "outputs": [
    {
     "name": "stdout",
     "output_type": "stream",
     "text": [
      "Output 2D Array filled with random floats :  [[0.24523041 0.57330678 0.15238755]]\n"
     ]
    }
   ],
   "source": [
    "# 2. random_sample() function\n",
    "# Python program explaining \n",
    "# numpy.random.random_sample() function \n",
    "\n",
    "# importing numpy \n",
    "import numpy as geek \n",
    "\n",
    "\n",
    "# output array \n",
    "out_arr = geek.random.random_sample(size =(1, 3)) \n",
    "print (\"Output 2D Array filled with random floats : \", out_arr) \n"
   ]
  },
  {
   "cell_type": "code",
   "execution_count": 81,
   "id": "563d6241",
   "metadata": {},
   "outputs": [
    {
     "name": "stdout",
     "output_type": "stream",
     "text": [
      "Output 2D Array filled with random integers :  [[1 2 1]\n",
      " [1 2 2]]\n"
     ]
    }
   ],
   "source": [
    "# 3. randint() function\n",
    "# Python program explaining \n",
    "# numpy.random.randint() function \n",
    "\n",
    "# importing numpy \n",
    "import numpy as geek \n",
    "\n",
    "\n",
    "# output array \n",
    "out_arr = geek.random.randint(low = 4, size =(2, 3)) \n",
    "print (\"Output 2D Array filled with random integers : \", out_arr) \n",
    " \n"
   ]
  },
  {
   "cell_type": "code",
   "execution_count": 82,
   "id": "bf4e20cf",
   "metadata": {},
   "outputs": [
    {
     "data": {
      "image/png": "[encoded data removed]",
      "text/plain": [
       "<Figure size 640x480 with 1 Axes>"
      ]
     },
     "metadata": {},
     "output_type": "display_data"
    }
   ],
   "source": [
    "# 4. numpy.random.choice() in Python\n",
    "# import choice \n",
    "import numpy as np \n",
    "import matplotlib.pyplot as plt \n",
    "\n",
    "# Using choice() method \n",
    "gfg = np.random.choice(13, 5000) \n",
    "\n",
    "count, bins, ignored = plt.hist(gfg, 25, density = True) \n",
    "plt.show()\n"
   ]
  },
  {
   "cell_type": "code",
   "execution_count": 83,
   "id": "f924b965",
   "metadata": {},
   "outputs": [
    {
     "data": {
      "image/png": "[encoded data removed]",
      "text/plain": [
       "<Figure size 640x480 with 1 Axes>"
      ]
     },
     "metadata": {},
     "output_type": "display_data"
    }
   ],
   "source": [
    "# 5. numpy.random.geometric() in Python\n",
    "# import numpy and geometric \n",
    "import numpy as np \n",
    "import matplotlib.pyplot as plt \n",
    "\n",
    "# Using geometric() method \n",
    "gfg = np.random.geometric(0.65, 1000) \n",
    "\n",
    "count, bins, ignored = plt.hist(gfg, 40, density = True) \n",
    "plt.show()\n"
   ]
  },
  {
   "cell_type": "markdown",
   "id": "04052121",
   "metadata": {},
   "source": [
    "## 11. Sorting and Searching in NumPy Array"
   ]
  },
  {
   "cell_type": "markdown",
   "id": "1a8857f3",
   "metadata": {},
   "source": [
    "1. numpy.sort() : This function returns a sorted copy of an array."
   ]
  },
  {
   "cell_type": "code",
   "execution_count": 54,
   "id": "9e24827b",
   "metadata": {},
   "outputs": [
    {
     "name": "stdout",
     "output_type": "stream",
     "text": [
      "Along first axis : \n",
      " [[10  1]\n",
      " [12 15]]\n",
      "\n",
      "Along first axis : \n",
      " [[10 15]\n",
      " [ 1 12]]\n",
      "\n",
      "Along none axis : \n",
      " [ 1 10 12 15]\n"
     ]
    }
   ],
   "source": [
    "# importing libraries\n",
    "import numpy as np\n",
    " \n",
    "# sort along the first axis\n",
    "a = np.array([[12, 15], [10, 1]])\n",
    "arr1 = np.sort(a, axis = 0)        \n",
    "print (\"Along first axis : \\n\", arr1)        \n",
    " \n",
    " \n",
    "# sort along the last axis\n",
    "a = np.array([[10, 15], [12, 1]])\n",
    "arr2 = np.sort(a, axis = -1)        \n",
    "print (\"\\nAlong first axis : \\n\", arr2)\n",
    " \n",
    " \n",
    "a = np.array([[12, 15], [10, 1]])\n",
    "arr1 = np.sort(a, axis = None)        \n",
    "print (\"\\nAlong none axis : \\n\", arr1)"
   ]
  },
  {
   "cell_type": "markdown",
   "id": "a0c0e57f",
   "metadata": {},
   "source": [
    "2. numpy.argmax() : This function returns indices of the max element of the array in a particular axis."
   ]
  },
  {
   "cell_type": "code",
   "execution_count": 55,
   "id": "ba22f0e2",
   "metadata": {},
   "outputs": [
    {
     "name": "stdout",
     "output_type": "stream",
     "text": [
      "INPUT ARRAY : \n",
      " [[ 0  1  2  3]\n",
      " [ 4  5  6  7]\n",
      " [ 8  9 10 11]]\n",
      "\n",
      "Max element :  11\n",
      "('\\nIndices of Max element : ', array([2, 2, 2, 2], dtype=int64))\n",
      "('\\nIndices of Max element : ', array([3, 3, 3], dtype=int64))\n"
     ]
    }
   ],
   "source": [
    "# Python Program illustrating\n",
    "# working of argmax()\n",
    " \n",
    "import numpy as geek \n",
    " \n",
    "# Working on 2D array\n",
    "array = geek.arange(12).reshape(3, 4)\n",
    "print(\"INPUT ARRAY : \\n\", array)\n",
    " \n",
    "# No axis mentioned, so works on entire array\n",
    "print(\"\\nMax element : \", geek.argmax(array))\n",
    " \n",
    "# returning Indices of the max element\n",
    "# as per the indices\n",
    "print((\"\\nIndices of Max element : \"\n",
    "      , geek.argmax(array, axis=0)))\n",
    "print((\"\\nIndices of Max element : \"\n",
    "      , geek.argmax(array, axis=1)))"
   ]
  },
  {
   "cell_type": "markdown",
   "id": "c1240ce3",
   "metadata": {},
   "source": [
    "## 12. Universal Functions"
   ]
  },
  {
   "cell_type": "markdown",
   "id": "0bf8a44d",
   "metadata": {},
   "source": [
    "NumPy Universal functions (ufuncs in short) are simple mathematical functions that operate on ndarray (N-dimensional array) in an element-wise fashion.\n",
    "\n",
    "It supports array broadcasting, type casting, and several other standard features. NumPy provides various universal functions like standard trigonometric functions, functions for arithmetic operations, handling complex numbers, statistical functions, etc."
   ]
  },
  {
   "cell_type": "markdown",
   "id": "02a00562",
   "metadata": {},
   "source": [
    "## 13. Working With Images"
   ]
  },
  {
   "cell_type": "markdown",
   "id": "4671bfaa",
   "metadata": {},
   "source": [
    "Images are an easier way to represent the working model. In Machine Learning, Python uses the image data in the format of Height, Width, Channel format. \n"
   ]
  }
 ],
 "metadata": {
  "kernelspec": {
   "display_name": "Python 3 (ipykernel)",
   "language": "python",
   "name": "python3"
  },
  "language_info": {
   "codemirror_mode": {
    "name": "ipython",
    "version": 3
   },
   "file_extension": ".py",
   "mimetype": "text/x-python",
   "name": "python",
   "nbconvert_exporter": "python",
   "pygments_lexer": "ipython3",
   "version": "3.11.5"
  }
 },
 "nbformat": 4,
 "nbformat_minor": 5
}
